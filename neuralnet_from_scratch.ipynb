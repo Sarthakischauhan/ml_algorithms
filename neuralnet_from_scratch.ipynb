{
  "cells": [
    {
      "cell_type": "markdown",
      "metadata": {},
      "source": [
        "# Neural net from scratch on custom data\n",
        "\n",
        "> Things to remember:\n",
        "1. `x` used for number of rows and `y` used for number of columns"
      ]
    },
    {
      "cell_type": "code",
      "execution_count": null,
      "metadata": {},
      "outputs": [],
      "source": [
        "import numpy as np "
      ]
    },
    {
      "cell_type": "code",
      "execution_count": null,
      "metadata": {},
      "outputs": [],
      "source": [
        "# data, this ideally should be pulled from a source\n",
        "# A\n",
        "a =[0, 0, 1, 1, 0, 0,\n",
        "0, 1, 0, 0, 1, 0,\n",
        "1, 1, 1, 1, 1, 1,\n",
        "1, 0, 0, 0, 0, 1,\n",
        "1, 0, 0, 0, 0, 1]\n",
        "\n",
        "# B\n",
        "b =[0, 1, 1, 1, 1, 0,\n",
        "0, 1, 0, 0, 1, 0,\n",
        "0, 1, 1, 1, 1, 0,\n",
        "0, 1, 0, 0, 1, 0,\n",
        "0, 1, 1, 1, 1, 0]\n",
        "\n",
        "# C\n",
        "c =[0, 1, 1, 1, 1, 0,\n",
        "0, 1, 0, 0, 0, 0,\n",
        "0, 1, 0, 0, 0, 0,\n",
        "0, 1, 0, 0, 0, 0,\n",
        "0, 1, 1, 1, 1, 0]\n",
        "\n",
        "x = [np.array(a).reshape(1,30), np.array(b).reshape(1,30), np.array(c).reshape(1,30)]\n",
        "x = np.array(x)\n",
        "# Creating labels\n",
        "y = np.array([[1, 0, 0],\n",
        "[0, 1, 0],\n",
        "[0, 0, 1]])\n"
      ]
    },
    {
      "cell_type": "code",
      "execution_count": null,
      "metadata": {},
      "outputs": [],
      "source": [
        "# This block will be used to generate random weights based on nodes\n",
        "def get_weights(x, y):\n",
        "    weights = []\n",
        "    for i in range(x*y):\n",
        "        weights.append(np.random.randn())\n",
        "    return np.array(weights).reshape(x,y)"
      ]
    },
    {
      "cell_type": "code",
      "execution_count": null,
      "metadata": {},
      "outputs": [],
      "source": [
        "import matplotlib.pyplot as plt\n",
        "\n",
        "plt.imshow(np.array(c).reshape(5, 6))\n",
        "\n",
        "\n",
        "plt.tick_params(axis='x', colors='white')\n",
        "plt.tick_params(axis='y', colors='white')\n",
        "plt.show()\n",
        "\n",
        "\n"
      ]
    },
    {
      "cell_type": "code",
      "execution_count": null,
      "metadata": {},
      "outputs": [],
      "source": [
        "class MyNet:\n",
        "    def __init__(self, values, targets):\n",
        "        self.values = values\n",
        "        self.targets = targets \n",
        "\n",
        "    def sigmoid(self, x):\n",
        "        return (1/(1+np.exp(-x)))\n",
        "    \n",
        "    def forward_prop(self,x, w1, w2):\n",
        "        # You get one input layer and two weights for each layer after input\n",
        "        z1 = x.dot(w1)\n",
        "        a1 = self.sigmoid(z1)\n",
        "        z2 = a1.dot(w2)\n",
        "        output = self.sigmoid(z2)\n",
        "        return output\n",
        "\n",
        "    def loss(self, actual, predicted):\n",
        "        l = (1/2) * np.sum(np.square((actual - predicted)))\n",
        "        return l \n",
        "\n",
        "    def backward_prop(self,x, y, w1, w2, alpha):\n",
        "        #alpha -> learning rate \n",
        "        # Sum of hidden layer\n",
        "        z1 = x.dot(w1) \n",
        "        # inputs for output layer\n",
        "        a1 = self.sigmoid(z1)\n",
        "\n",
        "        # Sum of output layer\n",
        "        z2 = a1.dot(w2)\n",
        "        output = self.sigmoid(z2)\n",
        "\n",
        "        # Calculate error at output\n",
        "        d_o = output - y\n",
        "        d1 = np.multiply((w2.dot((d_o.transpose()))).transpose(), \n",
        "                                   (np.multiply(a1, 1-a1)))\n",
        "\n",
        "        w1_new = x.transpose().dot(d1)\n",
        "        w2_new = a1.transpose().dot(d_o)\n",
        "\n",
        "        # calculating new weights and updating them \n",
        "        w1 = w1-(alpha*(w1_new))\n",
        "        w2 = w2-(alpha*(w2_new))\n",
        "    \n",
        "        return (w1, w2)"
      ]
    },
    {
      "cell_type": "code",
      "execution_count": null,
      "metadata": {},
      "outputs": [],
      "source": [
        "def train(x, y, w1, w2, alpha):\n",
        "    nn = MyNet(values=x, targets=y)\n",
        "    loss = []\n",
        "    accs = []\n",
        "    epoches = 100\n",
        "    for i in range(epoches):\n",
        "        l = []\n",
        "        # loop through all the inputs. \n",
        "        for j in range(len(x)):\n",
        "            output = nn.forward_prop(x[j], w1, w2)\n",
        "            l.append(nn.loss(output[0],y[j]))\n",
        "            w1, w2 = nn.backward_prop(x[j], y[j], w1, w2,alpha)\n",
        "        acc = (1-(sum(l)/len(x)))*100\n",
        "        print(f\"Epoch {i+1} Completed and accuracy === {acc}\")\n",
        "        accs.append(acc)\n",
        "        loss.append(sum(l)/len(x))\n",
        "    return (loss, acc, w1, w2)\n"
      ]
    },
    {
      "cell_type": "code",
      "execution_count": null,
      "metadata": {},
      "outputs": [],
      "source": [
        "w1 = get_weights(30, 5)\n",
        "w2 = get_weights(5, 3)"
      ]
    },
    {
      "cell_type": "code",
      "execution_count": null,
      "metadata": {},
      "outputs": [],
      "source": [
        "response = train(x, y, w1, w2, alpha=0.1)"
      ]
    },
    {
      "cell_type": "code",
      "execution_count": null,
      "metadata": {},
      "outputs": [],
      "source": [
        "def predict(x,y,w1, w2):\n",
        "    nn = MyNet(values=x, targets=y)\n",
        "    Out = nn.forward_prop(x, w1, w2)\n",
        "    maxm = 0\n",
        "    k = 0\n",
        "    for i in range(len(Out[0])):\n",
        "        if(maxm<Out[0][i]).any():\n",
        "            maxm = Out[0][i]\n",
        "            k = i\n",
        "    if(k == 0):\n",
        "        print(\"Image is of letter A.\")\n",
        "    elif(k == 1):\n",
        "        print(\"Image is of letter B.\")\n",
        "    else:\n",
        "        print(\"Image is of letter C.\")\n",
        "    plt.imshow(x.reshape(5, 6))\n",
        "    plt.show()  "
      ]
    },
    {
      "cell_type": "code",
      "execution_count": 218,
      "metadata": {},
      "outputs": [
        {
          "data": {
            "text/plain": [
              "<matplotlib.image.AxesImage at 0x112cba370>"
            ]
          },
          "execution_count": 218,
          "metadata": {},
          "output_type": "execute_result"
        },
        {
          "data": {
            "image/png": "[encoded data removed]",
            "text/plain": [
              "<Figure size 432x288 with 1 Axes>"
            ]
          },
          "metadata": {
            "needs_background": "light"
          },
          "output_type": "display_data"
        }
      ],
      "source": [
        "test_x = [0, 1, 1, 1, 1, 0,\n",
        "0, 1, 0, 0, 0, 0,\n",
        "0, 1, 1, 1, 1, 0,\n",
        "0, 1, 0, 0, 0, 0,\n",
        "0, 1, 1, 1, 1, 0]\n",
        "\n",
        "test_x = np.array(test_x).reshape(1,30)\n",
        "plt.imshow(test_x.reshape(5,6))"
      ]
    },
    {
      "cell_type": "code",
      "execution_count": 219,
      "metadata": {},
      "outputs": [
        {
          "name": "stdout",
          "output_type": "stream",
          "text": [
            "Image is of letter B.\n"
          ]
        },
        {
          "data": {
            "image/png": "[encoded data removed]",
            "text/plain": [
              "<Figure size 432x288 with 1 Axes>"
            ]
          },
          "metadata": {
            "needs_background": "light"
          },
          "output_type": "display_data"
        }
      ],
      "source": [
        "(loss, acc, w1, w2) = response\n",
        "predict(test_x, y, w1=w1, w2=w2)"
      ]
    },
    {
      "cell_type": "markdown",
      "metadata": {},
      "source": [
        "#### Works well with unknown digits and alphabets.\n",
        "- As you can see, E is rightly predicted to be as B. \n",
        "- A thicker lined C is still being predicted to be as C."
      ]
    },
    {
      "cell_type": "markdown",
      "metadata": {},
      "source": []
    }
  ],
  "metadata": {
    "colab": {
      "provenance": []
    },
    "kernelspec": {
      "display_name": "base",
      "language": "python",
      "name": "base"
    },
    "language_info": {
      "codemirror_mode": {
        "name": "ipython",
        "version": 3
      },
      "file_extension": ".py",
      "mimetype": "text/x-python",
      "name": "python",
      "nbconvert_exporter": "python",
      "pygments_lexer": "ipython3",
      "version": "3.9.20"
    }
  },
  "nbformat": 4,
  "nbformat_minor": 0
}
