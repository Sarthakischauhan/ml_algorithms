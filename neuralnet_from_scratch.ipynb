{
  "cells": [
    {
      "cell_type": "markdown",
      "metadata": {},
      "source": [
        "# Neural net from scratch on custom data\n",
        "\n",
        "> Things to remember:\n",
        "1. `x` used for number of rows and `y` used for number of columns"
      ]
    },
    {
      "cell_type": "code",
      "execution_count": 7,
      "metadata": {},
      "outputs": [],
      "source": [
        "import numpy as np "
      ]
    },
    {
      "cell_type": "code",
      "execution_count": 75,
      "metadata": {},
      "outputs": [],
      "source": [
        "# data, this ideally should be pulled from a source\n",
        "# A\n",
        "a =[0, 0, 1, 1, 0, 0,\n",
        "0, 1, 0, 0, 1, 0,\n",
        "1, 1, 1, 1, 1, 1,\n",
        "1, 0, 0, 0, 0, 1,\n",
        "1, 0, 0, 0, 0, 1]\n",
        "\n",
        "# B\n",
        "b =[0, 1, 1, 1, 1, 0,\n",
        "0, 1, 0, 0, 1, 0,\n",
        "0, 1, 1, 1, 1, 0,\n",
        "0, 1, 0, 0, 1, 0,\n",
        "0, 1, 1, 1, 1, 0]\n",
        "\n",
        "# C\n",
        "c =[0, 1, 1, 1, 1, 0,\n",
        "0, 1, 0, 0, 0, 0,\n",
        "0, 1, 0, 0, 0, 0,\n",
        "0, 1, 0, 0, 0, 0,\n",
        "0, 1, 1, 1, 1, 0]\n",
        "\n",
        "x = [np.array(a).reshape(1,30), np.array(b).reshape(1,30), np.array(c).reshape(1,30)]\n",
        "x = np.array(x)\n",
        "# Creating labels\n",
        "y = np.array([[1, 0, 0],\n",
        "[0, 1, 0],\n",
        "[0, 0, 1]])\n"
      ]
    },
    {
      "cell_type": "code",
      "execution_count": 59,
      "metadata": {},
      "outputs": [],
      "source": [
        "# This block will be used to generate random weights based on nodes\n",
        "def get_weights(x, y):\n",
        "    weights = []\n",
        "    for i in range(x*y):\n",
        "        weights.append(np.random.randn())\n",
        "    return np.array(weights).reshape(x,y)"
      ]
    },
    {
      "cell_type": "code",
      "execution_count": 69,
      "metadata": {},
      "outputs": [
        {
          "data": {
            "image/png": "[encoded data removed]",
            "text/plain": [
              "<Figure size 432x288 with 1 Axes>"
            ]
          },
          "metadata": {
            "needs_background": "dark"
          },
          "output_type": "display_data"
        }
      ],
      "source": [
        "import matplotlib.pyplot as plt\n",
        "\n",
        "plt.imshow(np.array(c).reshape(5, 6))\n",
        "\n",
        "\n",
        "plt.tick_params(axis='x', colors='white')\n",
        "plt.tick_params(axis='y', colors='white')\n",
        "plt.show()\n",
        "\n",
        "\n"
      ]
    },
    {
      "cell_type": "code",
      "execution_count": 177,
      "metadata": {},
      "outputs": [],
      "source": [
        "class MyNet:\n",
        "    def __init__(self, values, targets):\n",
        "        self.values = values\n",
        "        self.targets = targets \n",
        "\n",
        "    def sigmoid(self, x):\n",
        "        return (1/(1+np.exp(-x)))\n",
        "    \n",
        "    def forward_prop(self,x, w1, w2):\n",
        "        # You get one input layer and two weights for each layer after input\n",
        "        z1 = x.dot(w1)\n",
        "        a1 = self.sigmoid(z1)\n",
        "        z2 = a1.dot(w2)\n",
        "        output = self.sigmoid(z2)\n",
        "        return output\n",
        "\n",
        "    def loss(self, actual, predicted):\n",
        "        l = (1/2) * np.sum(np.square((actual - predicted)))\n",
        "        return l \n",
        "\n",
        "    def backward_prop(self,x, y, w1, w2, alpha):\n",
        "        #alpha -> learning rate \n",
        "        # Sum of hidden layer\n",
        "        z1 = x.dot(w1) \n",
        "        # inputs for output layer\n",
        "        a1 = self.sigmoid(z1)\n",
        "\n",
        "        # Sum of output layer\n",
        "        z2 = a1.dot(w2)\n",
        "        output = self.sigmoid(z2)\n",
        "\n",
        "        # Calculate error at output\n",
        "        d_o = output - y\n",
        "        d1 = np.multiply((w2.dot((d_o.transpose()))).transpose(), \n",
        "                                   (np.multiply(a1, 1-a1)))\n",
        "\n",
        "        w1_new = x.transpose().dot(d1)\n",
        "        w2_new = a1.transpose().dot(d_o)\n",
        "\n",
        "        # calculating new weights and updating them \n",
        "        w1 = w1-(alpha*(w1_new))\n",
        "        w2 = w2-(alpha*(w2_new))\n",
        "    \n",
        "        return (w1, w2)"
      ]
    },
    {
      "cell_type": "code",
      "execution_count": 182,
      "metadata": {},
      "outputs": [],
      "source": [
        "def train(x, y, w1, w2, alpha):\n",
        "    nn = MyNet(values=x, targets=y)\n",
        "    loss = []\n",
        "    accs = []\n",
        "    epoches = 100\n",
        "    for i in range(epoches):\n",
        "        l = []\n",
        "        # loop through all the inputs. \n",
        "        for j in range(len(x)):\n",
        "            output = nn.forward_prop(x[j], w1, w2)\n",
        "            l.append(nn.loss(output[0],y[j]))\n",
        "            w1, w2 = nn.backward_prop(x[j], y[j], w1, w2,alpha)\n",
        "        acc = (1-(sum(l)/len(x)))*100\n",
        "        print(f\"Epoch {i+1} Completed and accuracy === {acc}\")\n",
        "        accs.append(acc)\n",
        "        loss.append(sum(l)/len(x))\n",
        "    return (loss, acc, w1, w2)\n"
      ]
    },
    {
      "cell_type": "code",
      "execution_count": 183,
      "metadata": {},
      "outputs": [],
      "source": [
        "w1 = get_weights(30, 5)\n",
        "w2 = get_weights(5, 3)"
      ]
    },
    {
      "cell_type": "code",
      "execution_count": null,
      "metadata": {},
      "outputs": [
        {
          "name": "stdout",
          "output_type": "stream",
          "text": [
            "Epoch 1 Completed and accuracy === 36.86891275815164\n",
            "Epoch 2 Completed and accuracy === 42.36072370329297\n",
            "Epoch 3 Completed and accuracy === 47.45601634161433\n",
            "Epoch 4 Completed and accuracy === 52.051212088370804\n",
            "Epoch 5 Completed and accuracy === 55.984179299788586\n",
            "Epoch 6 Completed and accuracy === 59.14284411888304\n",
            "Epoch 7 Completed and accuracy === 61.57656232560318\n",
            "Epoch 8 Completed and accuracy === 63.44617959807084\n",
            "Epoch 9 Completed and accuracy === 64.91978437846768\n",
            "Epoch 10 Completed and accuracy === 66.12547332575853\n",
            "Epoch 11 Completed and accuracy === 67.1497664417604\n",
            "Epoch 12 Completed and accuracy === 68.04893951937908\n",
            "Epoch 13 Completed and accuracy === 68.85962093242458\n",
            "Epoch 14 Completed and accuracy === 69.60609089421337\n",
            "Epoch 15 Completed and accuracy === 70.30485474724635\n",
            "Epoch 16 Completed and accuracy === 70.96742938817724\n",
            "Epoch 17 Completed and accuracy === 71.60204329899172\n",
            "Epoch 18 Completed and accuracy === 72.21469104635132\n",
            "Epoch 19 Completed and accuracy === 72.80980417420709\n",
            "Epoch 20 Completed and accuracy === 73.3906913647775\n",
            "Epoch 21 Completed and accuracy === 73.95983699029946\n",
            "Epoch 22 Completed and accuracy === 74.51911030727803\n",
            "Epoch 23 Completed and accuracy === 75.06991622196996\n",
            "Epoch 24 Completed and accuracy === 75.6133062255423\n",
            "Epoch 25 Completed and accuracy === 76.15006100607286\n",
            "Epoch 26 Completed and accuracy === 76.68075220749576\n",
            "Epoch 27 Completed and accuracy === 77.20578852045307\n",
            "Epoch 28 Completed and accuracy === 77.72544997075651\n",
            "Epoch 29 Completed and accuracy === 78.23991345025463\n",
            "Epoch 30 Completed and accuracy === 78.74927194868121\n",
            "Epoch 31 Completed and accuracy === 79.25354945982473\n",
            "Epoch 32 Completed and accuracy === 79.75271309590542\n",
            "Epoch 33 Completed and accuracy === 80.24668353766081\n",
            "Epoch 34 Completed and accuracy === 80.73534458039958\n",
            "Epoch 35 Completed and accuracy === 81.21855221905537\n",
            "Epoch 36 Completed and accuracy === 81.69614345667753\n",
            "Epoch 37 Completed and accuracy === 82.16794482454067\n",
            "Epoch 38 Completed and accuracy === 82.63378046663979\n",
            "Epoch 39 Completed and accuracy === 83.09347956094632\n",
            "Epoch 40 Completed and accuracy === 83.54688281563713\n",
            "Epoch 41 Completed and accuracy === 83.99384778036624\n",
            "Epoch 42 Completed and accuracy === 84.4342527404352\n",
            "Epoch 43 Completed and accuracy === 84.86799900687892\n",
            "Epoch 44 Completed and accuracy === 85.29501147210692\n",
            "Epoch 45 Completed and accuracy === 85.7152373662177\n",
            "Epoch 46 Completed and accuracy === 86.12864322416398\n",
            "Epoch 47 Completed and accuracy === 86.53521016191668\n",
            "Epoch 48 Completed and accuracy === 86.93492766492676\n",
            "Epoch 49 Completed and accuracy === 87.3277862170862\n",
            "Epoch 50 Completed and accuracy === 87.71376924047144\n",
            "Epoch 51 Completed and accuracy === 88.09284496402617\n",
            "Epoch 52 Completed and accuracy === 88.46495897017816\n",
            "Epoch 53 Completed and accuracy === 88.83002824817748\n",
            "Epoch 54 Completed and accuracy === 89.18793757165216\n",
            "Epoch 55 Completed and accuracy === 89.53853888042526\n",
            "Epoch 56 Completed and accuracy === 89.88165406819138\n",
            "Epoch 57 Completed and accuracy === 90.2170811780798\n",
            "Epoch 58 Completed and accuracy === 90.54460354807523\n",
            "Epoch 59 Completed and accuracy === 90.86400102004933\n",
            "Epoch 60 Completed and accuracy === 91.17506202880566\n",
            "Epoch 61 Completed and accuracy === 91.47759529375728\n",
            "Epoch 62 Completed and accuracy === 91.77143996530239\n",
            "Epoch 63 Completed and accuracy === 92.056473389982\n",
            "Epoch 64 Completed and accuracy === 92.33261606808296\n",
            "Epoch 65 Completed and accuracy === 92.59983378629423\n",
            "Epoch 66 Completed and accuracy === 92.858137236388\n",
            "Epoch 67 Completed and accuracy === 93.1075796359544\n",
            "Epoch 68 Completed and accuracy === 93.34825294544484\n",
            "Epoch 69 Completed and accuracy === 93.58028325197833\n",
            "Epoch 70 Completed and accuracy === 93.8038258019275\n",
            "Epoch 71 Completed and accuracy === 94.01906004770343\n",
            "Epoch 72 Completed and accuracy === 94.2261849570756\n",
            "Epoch 73 Completed and accuracy === 94.4254147323903\n",
            "Epoch 74 Completed and accuracy === 94.61697500913921\n",
            "Epoch 75 Completed and accuracy === 94.80109954876733\n",
            "Epoch 76 Completed and accuracy === 94.97802740605961\n",
            "Epoch 77 Completed and accuracy === 95.1480005322251\n",
            "Epoch 78 Completed and accuracy === 95.31126176630147\n",
            "Epoch 79 Completed and accuracy === 95.46805316588406\n",
            "Epoch 80 Completed and accuracy === 95.61861463055715\n",
            "Epoch 81 Completed and accuracy === 95.763182775779\n",
            "Epoch 82 Completed and accuracy === 95.90199002007589\n",
            "Epoch 83 Completed and accuracy === 96.03526385349078\n",
            "Epoch 84 Completed and accuracy === 96.16322625992106\n",
            "Epoch 85 Completed and accuracy === 96.2860932701043\n",
            "Epoch 86 Completed and accuracy === 96.40407462553867\n",
            "Epoch 87 Completed and accuracy === 96.51737353659415\n",
            "Epoch 88 Completed and accuracy === 96.62618652054817\n",
            "Epoch 89 Completed and accuracy === 96.73070330734313\n",
            "Epoch 90 Completed and accuracy === 96.83110680258422\n",
            "Epoch 91 Completed and accuracy === 96.92757309874015\n",
            "Epoch 92 Completed and accuracy === 97.02027152672802\n",
            "Epoch 93 Completed and accuracy === 97.1093647411017\n",
            "Epoch 94 Completed and accuracy === 97.1950088329534\n",
            "Epoch 95 Completed and accuracy === 97.27735346540906\n",
            "Epoch 96 Completed and accuracy === 97.3565420272679\n",
            "Epoch 97 Completed and accuracy === 97.43271180092458\n",
            "Epoch 98 Completed and accuracy === 97.50599414122783\n",
            "Epoch 99 Completed and accuracy === 97.57651466238507\n",
            "Epoch 100 Completed and accuracy === 97.64439343042442\n"
          ]
        }
      ],
      "source": [
        "response = train(x, y, w1, w2, alpha=0.1)"
      ]
    },
    {
      "cell_type": "code",
      "execution_count": 199,
      "metadata": {},
      "outputs": [],
      "source": [
        "def predict(x,y,w1, w2):\n",
        "    nn = MyNet(values=x, targets=y)\n",
        "    Out = nn.forward_prop(x, w1, w2)\n",
        "    maxm = 0\n",
        "    k = 0\n",
        "    for i in range(len(Out[0])):\n",
        "        if(maxm<Out[0][i]).any():\n",
        "            maxm = Out[0][i]\n",
        "            k = i\n",
        "    if(k == 0):\n",
        "        print(\"Image is of letter A.\")\n",
        "    elif(k == 1):\n",
        "        print(\"Image is of letter B.\")\n",
        "    else:\n",
        "        print(\"Image is of letter C.\")\n",
        "    plt.imshow(x.reshape(5, 6))\n",
        "    plt.show()  "
      ]
    },
    {
      "cell_type": "code",
      "execution_count": 203,
      "metadata": {},
      "outputs": [
        {
          "name": "stdout",
          "output_type": "stream",
          "text": [
            "Image is of letter C.\n"
          ]
        },
        {
          "data": {
            "image/png": "[encoded data removed]",
            "text/plain": [
              "<Figure size 432x288 with 1 Axes>"
            ]
          },
          "metadata": {
            "needs_background": "light"
          },
          "output_type": "display_data"
        }
      ],
      "source": [
        "(loss, acc, w1, w2) = response\n",
        "predict(x[2], y, w1=w1, w2=w2)"
      ]
    },
    {
      "cell_type": "code",
      "execution_count": null,
      "metadata": {},
      "outputs": [],
      "source": []
    }
  ],
  "metadata": {
    "colab": {
      "provenance": []
    },
    "kernelspec": {
      "display_name": "base",
      "language": "python",
      "name": "base"
    },
    "language_info": {
      "codemirror_mode": {
        "name": "ipython",
        "version": 3
      },
      "file_extension": ".py",
      "mimetype": "text/x-python",
      "name": "python",
      "nbconvert_exporter": "python",
      "pygments_lexer": "ipython3",
      "version": "3.9.20"
    }
  },
  "nbformat": 4,
  "nbformat_minor": 0
}
