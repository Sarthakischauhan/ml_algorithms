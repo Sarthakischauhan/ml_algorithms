{
  "cells": [
    {
      "cell_type": "markdown",
      "metadata": {},
      "source": [
        "# Half Baked Implementation of a Neural Network\n",
        "\n",
        "Neural network using backpropagation algorithm. **Do not care about accuracy etc, just wanted to learn the math behind it** \n",
        "\n",
        "I will create a pipeline or fix it later!. That's all folks!"
      ]
    },
    {
      "cell_type": "code",
      "execution_count": 1,
      "metadata": {
        "id": "6UVeIt0OPr4o"
      },
      "outputs": [],
      "source": [
        "import numpy as np"
      ]
    },
    {
      "cell_type": "code",
      "execution_count": 49,
      "metadata": {
        "id": "J_RPBv2rEFCo"
      },
      "outputs": [],
      "source": [
        "class MyNet():\n",
        "    def __init__(self):\n",
        "        self.approach = \"Scratch\"\n",
        "        self.inputs = np.array([\n",
        "            [0.2, 0.7, 0.5],\n",
        "            [0.1, 0.4, 0.9],\n",
        "            [0.3, 0.1, 0.0],\n",
        "            [0.0, 0.2, 0.2],\n",
        "            [0.8, 0.5, 0.1]\n",
        "        ])\n",
        "        self.weights = np.random.randn(3, 2)\n",
        "        self.output = np.random.randn(2, 1)\n",
        "\n",
        "    def sigmoid(self, z):\n",
        "        return 1 / (1 + np.exp(-z))\n",
        "\n",
        "    def feed_forward(self, X, W, activation_function=None, B=None):\n",
        "        activation_function = activation_function or self.sigmoid\n",
        "        if B is None:\n",
        "            B = 0\n",
        "        Z = np.dot(X, W) + B\n",
        "        a = activation_function(Z)\n",
        "        return a\n",
        "\n",
        "    def backward_pass(self, X, W, y, Y_target=Y, delta_next=None, layer=\"last\"):\n",
        "        m = X.shape[0]\n",
        "        if layer == \"last\":\n",
        "            dy = y - Y_target\n",
        "        elif layer == \"hidden\":\n",
        "            # For hidden layers, use the delta from the next layer.\n",
        "            dy = np.dot(delta_next, W.T)\n",
        "\n",
        "        # Compute derivative of sigmoid\n",
        "        dz = dy * y * (1 - y)\n",
        "        dw = np.dot(X.T, dz) / m\n",
        "        db = np.sum(dz, axis=0, keepdims=True) / m\n",
        "        return dw, db, dz\n",
        "\n",
        "    def print_parameters(self):\n",
        "        print(\"Current Inputs\")\n",
        "        print(self.inputs)\n",
        "        print(\"Current Weights\")\n",
        "        print(self.weights)\n",
        "        print(\"Output layer weights\")\n",
        "        print(self.output)\n"
      ]
    },
    {
      "cell_type": "code",
      "execution_count": 53,
      "metadata": {
        "id": "uTs6SXBcTzEd"
      },
      "outputs": [],
      "source": [
        "# Starting an instance of Neural Network class.\n",
        "nn = MyNet()"
      ]
    },
    {
      "cell_type": "code",
      "execution_count": 56,
      "metadata": {
        "colab": {
          "base_uri": "https://localhost:8080/"
        },
        "collapsed": true,
        "id": "3iPFg42LM2QV",
        "outputId": "b26f7bbf-a2e4-4388-a353-f9279073b21e"
      },
      "outputs": [
        {
          "name": "stdout",
          "output_type": "stream",
          "text": [
            "Network output is [[0.50497476]\n",
            " [0.51684931]\n",
            " [0.47631082]\n",
            " [0.47336989]\n",
            " [0.50785528]]\n"
          ]
        }
      ],
      "source": [
        "# Set of correct values\n",
        "Y = np.array([[1], [0], [1], [0], [1]])\n",
        "\n",
        "# Forward pass for the neural network\n",
        "a1 = nn.feed_forward(nn.inputs, nn.weights,nn.sigmoid)\n",
        "network_output = nn.feed_forward(a1, nn.output, nn.sigmoid)\n",
        "\n",
        "print(f\"Network output is {network_output}\")\n",
        "\n",
        "# Backward pass\n",
        "dw_output, db_output, dz_output = nn.backward_pass(a1, nn.output, network_output, layer=\"last\")\n",
        "dw_hidden, db_hidden, dz_hidden = nn.backward_pass(nn.inputs, dw_output, a1, delta_next=dz_output, layer=\"hidden\")"
      ]
    },
    {
      "cell_type": "code",
      "execution_count": null,
      "metadata": {
        "id": "oy27vdrwWyum"
      },
      "outputs": [],
      "source": []
    }
  ],
  "metadata": {
    "colab": {
      "provenance": []
    },
    "kernelspec": {
      "display_name": "Python 3",
      "name": "python3"
    },
    "language_info": {
      "name": "python"
    }
  },
  "nbformat": 4,
  "nbformat_minor": 0
}
